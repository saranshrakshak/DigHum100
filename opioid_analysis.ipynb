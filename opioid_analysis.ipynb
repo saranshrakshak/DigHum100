{
 "cells": [
  {
   "cell_type": "code",
   "execution_count": 1,
   "metadata": {},
   "outputs": [],
   "source": [
    "import numpy as np\n",
    "import pandas as pd\n",
    "import matplotlib.pyplot as plt\n",
    "import seaborn as sns"
   ]
  },
  {
   "cell_type": "markdown",
   "metadata": {},
   "source": [
    "## Part 1: Data Selection"
   ]
  },
  {
   "cell_type": "markdown",
   "metadata": {},
   "source": [
    "$1)$ Data regarding opioid prescriptions is provided by the $\\textit{Center for Medicare and Medicaid Services}$, which can be accessed here: \n",
    "\n",
    "https://data.cms.gov/Medicare-Part-D/Medicare-Part-D-Opioid-Prescriber-Summary-File-201/j2ra-95gh\n",
    "\n",
    "$\\textbf{Original Data Information}$\n",
    "\n",
    "Provided By: CMS\n",
    "\n",
    "Contact Email: MedicareProviderData@cms.hhs.gov\n",
    "\n",
    "Bureau Code: \t009:38\n",
    "\n",
    "Program Code: 009.000\n",
    "\n",
    "Last Updated: February 8, 2021 \n",
    "\n",
    "Number of Rows: 1,204,935\n",
    "\n",
    "Number of Columns: 11\n",
    "\n"
   ]
  },
  {
   "cell_type": "code",
   "execution_count": 2,
   "metadata": {},
   "outputs": [
    {
     "data": {
      "text/html": [
       "<div>\n",
       "<style scoped>\n",
       "    .dataframe tbody tr th:only-of-type {\n",
       "        vertical-align: middle;\n",
       "    }\n",
       "\n",
       "    .dataframe tbody tr th {\n",
       "        vertical-align: top;\n",
       "    }\n",
       "\n",
       "    .dataframe thead th {\n",
       "        text-align: right;\n",
       "    }\n",
       "</style>\n",
       "<table border=\"1\" class=\"dataframe\">\n",
       "  <thead>\n",
       "    <tr style=\"text-align: right;\">\n",
       "      <th></th>\n",
       "      <th>NPI</th>\n",
       "      <th>last_name</th>\n",
       "      <th>first_name</th>\n",
       "      <th>zip_code</th>\n",
       "      <th>state</th>\n",
       "      <th>doc_spec</th>\n",
       "      <th>tot_presc_cnt</th>\n",
       "      <th>op_cnt</th>\n",
       "      <th>op_rate</th>\n",
       "      <th>LA_op_cnt</th>\n",
       "      <th>LA_op_rate</th>\n",
       "    </tr>\n",
       "  </thead>\n",
       "  <tbody>\n",
       "    <tr>\n",
       "      <th>0</th>\n",
       "      <td>1003000126</td>\n",
       "      <td>ENKESHAFI</td>\n",
       "      <td>ARDALAN</td>\n",
       "      <td>21502.0</td>\n",
       "      <td>MD</td>\n",
       "      <td>Internal Medicine</td>\n",
       "      <td>492</td>\n",
       "      <td>13.0</td>\n",
       "      <td>0.03</td>\n",
       "      <td>NaN</td>\n",
       "      <td>NaN</td>\n",
       "    </tr>\n",
       "    <tr>\n",
       "      <th>1</th>\n",
       "      <td>1003000142</td>\n",
       "      <td>KHALIL</td>\n",
       "      <td>RASHID</td>\n",
       "      <td>43623.0</td>\n",
       "      <td>OH</td>\n",
       "      <td>Anesthesiology</td>\n",
       "      <td>1818</td>\n",
       "      <td>891.0</td>\n",
       "      <td>0.49</td>\n",
       "      <td>143.0</td>\n",
       "      <td>0.16</td>\n",
       "    </tr>\n",
       "    <tr>\n",
       "      <th>2</th>\n",
       "      <td>1003000167</td>\n",
       "      <td>ESCOBAR</td>\n",
       "      <td>JULIO</td>\n",
       "      <td>89403.0</td>\n",
       "      <td>NV</td>\n",
       "      <td>Dentist</td>\n",
       "      <td>77</td>\n",
       "      <td>NaN</td>\n",
       "      <td>NaN</td>\n",
       "      <td>0.0</td>\n",
       "      <td>NaN</td>\n",
       "    </tr>\n",
       "    <tr>\n",
       "      <th>3</th>\n",
       "      <td>1003000282</td>\n",
       "      <td>BLAKEMORE</td>\n",
       "      <td>ROSIE</td>\n",
       "      <td>37243.0</td>\n",
       "      <td>TN</td>\n",
       "      <td>Nurse Practitioner</td>\n",
       "      <td>100</td>\n",
       "      <td>0.0</td>\n",
       "      <td>0.00</td>\n",
       "      <td>0.0</td>\n",
       "      <td>NaN</td>\n",
       "    </tr>\n",
       "    <tr>\n",
       "      <th>4</th>\n",
       "      <td>1003000407</td>\n",
       "      <td>GIRARDI</td>\n",
       "      <td>DAVID</td>\n",
       "      <td>15825.0</td>\n",
       "      <td>PA</td>\n",
       "      <td>Family Practice</td>\n",
       "      <td>2766</td>\n",
       "      <td>22.0</td>\n",
       "      <td>0.01</td>\n",
       "      <td>NaN</td>\n",
       "      <td>NaN</td>\n",
       "    </tr>\n",
       "  </tbody>\n",
       "</table>\n",
       "</div>"
      ],
      "text/plain": [
       "          NPI  last_name first_name  zip_code state            doc_spec  \\\n",
       "0  1003000126  ENKESHAFI    ARDALAN   21502.0    MD   Internal Medicine   \n",
       "1  1003000142     KHALIL     RASHID   43623.0    OH      Anesthesiology   \n",
       "2  1003000167    ESCOBAR      JULIO   89403.0    NV             Dentist   \n",
       "3  1003000282  BLAKEMORE      ROSIE   37243.0    TN  Nurse Practitioner   \n",
       "4  1003000407    GIRARDI      DAVID   15825.0    PA     Family Practice   \n",
       "\n",
       "   tot_presc_cnt  op_cnt  op_rate  LA_op_cnt  LA_op_rate  \n",
       "0            492    13.0     0.03        NaN         NaN  \n",
       "1           1818   891.0     0.49      143.0        0.16  \n",
       "2             77     NaN      NaN        0.0         NaN  \n",
       "3            100     0.0     0.00        0.0         NaN  \n",
       "4           2766    22.0     0.01        NaN         NaN  "
      ]
     },
     "execution_count": 2,
     "metadata": {},
     "output_type": "execute_result"
    }
   ],
   "source": [
    "op_data = pd.read_csv(\"op_2021_data.csv\")\n",
    "op_data = op_data.rename(columns = {'NPPES Provider Last Name': 'last_name',\n",
    "                                    'NPPES Provider First Name': 'first_name',\n",
    "                                    'NPPES Provider ZIP Code': 'zip_code', 'NPPES Provider State':'state',\n",
    "                                    'Specialty Description':'doc_spec',\n",
    "                                    'Total Claim Count': 'tot_presc_cnt',\n",
    "                                    'Opioid Claim Count':'op_cnt', 'Opioid Prescribing Rate' : 'op_rate',\n",
    "                                    'Long-Acting Opioid Claim Count': 'LA_op_cnt',\n",
    "                                    'Long-Acting Opioid Prescribing Rate': 'LA_op_rate'})\n",
    "op_data.head()"
   ]
  },
  {
   "cell_type": "markdown",
   "metadata": {},
   "source": [
    "$\\textbf{The dataset contains the following values:}$\n",
    "\n",
    "- NPI: National Provider Identifier for Doctor Identification.\n",
    "\n",
    "- last_name:  Prescribing Doctor's Last Name.\n",
    "\n",
    "- first_name: Prescribing Doctor's First Name.\n",
    "\n",
    "- zip_code: Zip code of the doctor's location.\n",
    "\n",
    "- state: Prescribing Doctor's location.\n",
    "\n",
    "- doc_spec: Specialty of Doctor.\n",
    "\n",
    "- tot_presc_cnt: Total amount of prescriptions by the doctor (inclusive of non-opioids).\n",
    "\n",
    "- op_cnt: Amount of opioid prescriptions by the doctor.\n",
    "\n",
    "- op_rate: Changes in the amount of opioid prescriptions over time by each individual doctor.\n",
    "\n",
    "- LA_op_cnt: Amount of Long-Acting opioid prescriptions by the doctor.\n",
    "\n",
    "- LA_op_rate: Changes in the amount of Long-Acting opioid prescriptions over time by each individual doctor. "
   ]
  },
  {
   "cell_type": "markdown",
   "metadata": {},
   "source": [
    "$\\textbf{Data reguarding average incomes in different area codes is originally provided by the \\textbf{Internal Revenue Service (IRS)} , which can be accessed here:}$\n",
    "\n",
    "https://www.irs.gov/statistics/soi-tax-stats-individual-income-tax-statistics-2016-zip-code-data-soi\n",
    "\n",
    "$\\textbf{Data that I will be using has been cleaned and posted for public access by Jon Loyens on data.world, which can be accessed here:}$\n",
    "\n",
    "https://data.world/jonloyens/irs-income-by-zip-code\n",
    "\n",
    "$\\textbf{Original Data Information}$\n",
    "\n",
    "Provided By: Jon Loyens\n",
    "\n",
    "Contact Address: @jonloyens (twitter)\n",
    "\n",
    "Last Updated: June 16, 2016\n",
    "\n",
    "Number of Rows: 27,790\n",
    "\n",
    "Number of Columns: 11\n"
   ]
  },
  {
   "cell_type": "code",
   "execution_count": 3,
   "metadata": {},
   "outputs": [
    {
     "data": {
      "text/html": [
       "<div>\n",
       "<style scoped>\n",
       "    .dataframe tbody tr th:only-of-type {\n",
       "        vertical-align: middle;\n",
       "    }\n",
       "\n",
       "    .dataframe tbody tr th {\n",
       "        vertical-align: top;\n",
       "    }\n",
       "\n",
       "    .dataframe thead th {\n",
       "        text-align: right;\n",
       "    }\n",
       "</style>\n",
       "<table border=\"1\" class=\"dataframe\">\n",
       "  <thead>\n",
       "    <tr style=\"text-align: right;\">\n",
       "      <th></th>\n",
       "      <th>state</th>\n",
       "      <th>zip_code</th>\n",
       "      <th>num_tax_ret</th>\n",
       "      <th>zip_agi</th>\n",
       "      <th>zip_avg_agi</th>\n",
       "      <th>ret_w_total</th>\n",
       "      <th>sum_zip_income</th>\n",
       "      <th>zip_avg_income</th>\n",
       "      <th>num_ret_taxable</th>\n",
       "      <th>taxable_amt</th>\n",
       "      <th>avg_taxable</th>\n",
       "    </tr>\n",
       "  </thead>\n",
       "  <tbody>\n",
       "    <tr>\n",
       "      <th>0</th>\n",
       "      <td>AL</td>\n",
       "      <td>0</td>\n",
       "      <td>2022380</td>\n",
       "      <td>105089761</td>\n",
       "      <td>51.963410</td>\n",
       "      <td>2022380</td>\n",
       "      <td>106420533</td>\n",
       "      <td>52.621433</td>\n",
       "      <td>1468370</td>\n",
       "      <td>67850874</td>\n",
       "      <td>46.208295</td>\n",
       "    </tr>\n",
       "    <tr>\n",
       "      <th>1</th>\n",
       "      <td>AL</td>\n",
       "      <td>35004</td>\n",
       "      <td>4930</td>\n",
       "      <td>255534</td>\n",
       "      <td>51.832454</td>\n",
       "      <td>4930</td>\n",
       "      <td>258024</td>\n",
       "      <td>52.337525</td>\n",
       "      <td>4020</td>\n",
       "      <td>163859</td>\n",
       "      <td>40.760945</td>\n",
       "    </tr>\n",
       "    <tr>\n",
       "      <th>2</th>\n",
       "      <td>AL</td>\n",
       "      <td>35005</td>\n",
       "      <td>3300</td>\n",
       "      <td>128387</td>\n",
       "      <td>38.905152</td>\n",
       "      <td>3300</td>\n",
       "      <td>129390</td>\n",
       "      <td>39.209091</td>\n",
       "      <td>2440</td>\n",
       "      <td>70760</td>\n",
       "      <td>29.000000</td>\n",
       "    </tr>\n",
       "    <tr>\n",
       "      <th>3</th>\n",
       "      <td>AL</td>\n",
       "      <td>35006</td>\n",
       "      <td>1230</td>\n",
       "      <td>58302</td>\n",
       "      <td>47.400000</td>\n",
       "      <td>1230</td>\n",
       "      <td>58585</td>\n",
       "      <td>47.630081</td>\n",
       "      <td>940</td>\n",
       "      <td>36341</td>\n",
       "      <td>38.660638</td>\n",
       "    </tr>\n",
       "    <tr>\n",
       "      <th>4</th>\n",
       "      <td>AL</td>\n",
       "      <td>35007</td>\n",
       "      <td>11990</td>\n",
       "      <td>643708</td>\n",
       "      <td>53.687073</td>\n",
       "      <td>11990</td>\n",
       "      <td>651350</td>\n",
       "      <td>54.324437</td>\n",
       "      <td>9280</td>\n",
       "      <td>414878</td>\n",
       "      <td>44.706681</td>\n",
       "    </tr>\n",
       "  </tbody>\n",
       "</table>\n",
       "</div>"
      ],
      "text/plain": [
       "  state  zip_code  num_tax_ret    zip_agi  zip_avg_agi  ret_w_total  \\\n",
       "0    AL         0      2022380  105089761    51.963410      2022380   \n",
       "1    AL     35004         4930     255534    51.832454         4930   \n",
       "2    AL     35005         3300     128387    38.905152         3300   \n",
       "3    AL     35006         1230      58302    47.400000         1230   \n",
       "4    AL     35007        11990     643708    53.687073        11990   \n",
       "\n",
       "   sum_zip_income  zip_avg_income  num_ret_taxable  taxable_amt  avg_taxable  \n",
       "0       106420533       52.621433          1468370     67850874    46.208295  \n",
       "1          258024       52.337525             4020       163859    40.760945  \n",
       "2          129390       39.209091             2440        70760    29.000000  \n",
       "3           58585       47.630081              940        36341    38.660638  \n",
       "4          651350       54.324437             9280       414878    44.706681  "
      ]
     },
     "execution_count": 3,
     "metadata": {},
     "output_type": "execute_result"
    }
   ],
   "source": [
    "income_data = pd.read_csv(\"IRSIncomeByZipCode.csv\")\n",
    "income_data = income_data.rename(columns = {'STATE':'state', 'ZIPCODE': 'zip_code',\n",
    "                                'Number of returns' : 'num_tax_ret', \n",
    "                                'Adjusted gross income (AGI)': 'zip_agi',\n",
    "                                'Avg AGI': 'zip_avg_agi',\n",
    "                                'Number of returns with total income': 'ret_w_total',\n",
    "                                'Total income amount' : 'sum_zip_income',\n",
    "                                'Avg total income':'zip_avg_income',\n",
    "                                'Number of returns with taxable income':'num_ret_taxable',\n",
    "                                'Taxable income amount': 'taxable_amt',\n",
    "                                'Avg taxable income':'avg_taxable'})\n",
    "income_data.head()"
   ]
  },
  {
   "cell_type": "markdown",
   "metadata": {},
   "source": [
    "$\\textbf{The dataset contains the following values:}$\n",
    "\n",
    "- state: The state the zip code is located in.\n",
    "\n",
    "- zip_code: Zip code.\n",
    "\n",
    "- num_tax_ret: The number of tax returns filed in 2016.\n",
    "\n",
    "- zip_agi: Adjusted gross income for residents in a zip.\n",
    "\n",
    "- zip_avg_agi: Average gross income for residents in a zip.\n",
    "\n",
    "- ret_w_total: Number of income tax returns with total income. \n",
    "\n",
    "- sum_zip_income: Summation of all incomes of residents in a zip code.\n",
    "\n",
    "- avg_income: Average income of residents in a zip code, in the thousands. (i.e. 52.3 = 52,300 amount earned, on average, by residents in a shared zip code)\n",
    "\n",
    "- num_ret_taxable: Number of income tax returns with taxable income. \n",
    "\n",
    "- taxable_amt: Summation of the total amount a zip can be taxed. \n",
    "\n",
    "- avg_taxable: Average total taxable income for each area code, in the thousands. (i.e. 40.76 = 40,760 income tax paid by that zip code in 2016)"
   ]
  },
  {
   "cell_type": "markdown",
   "metadata": {},
   "source": [
    "## Part 2: Cleaning"
   ]
  },
  {
   "cell_type": "markdown",
   "metadata": {},
   "source": [
    "Now we will clean up our dataframe for prescription data and income data by removing unnessicary rows/columns and editing corrupted or non-existant values. "
   ]
  },
  {
   "cell_type": "code",
   "execution_count": 4,
   "metadata": {},
   "outputs": [],
   "source": [
    "#Scrubbing Prescription Data\n",
    "#removing individual doctor identification, name, and total presciption count (tot_presc_cnt as it \n",
    "#contains non-opioid data).\n",
    "op_data = op_data[['zip_code', 'state', 'doc_spec', 'op_cnt', 'op_rate', 'LA_op_cnt', 'LA_op_rate']]\n",
    "#removing doctors who have not prescribed any opioids\n",
    "op_data = op_data[op_data['op_cnt'] > 0]\n",
    "\n",
    "#changing zip_code from type float to type int\n",
    "op_data['zip_code'] = op_data['zip_code'].values.astype(int)\n",
    "#replacing Nan values in LA_op to 0, as Nan represents long acting opioids were not prescribed\n",
    "op_data['LA_op_cnt'] = op_data['LA_op_cnt'].replace(np.nan, 0)\n",
    "op_data['LA_op_rate'] = op_data['LA_op_rate'].replace(np.nan, 0)\n",
    "\n",
    "#Scrubbing income data\n",
    "#removing unnecessary columns\n",
    "income_data = income_data[['state', 'zip_code', 'zip_avg_income']]\n",
    "#removing all non 5 digit zip codes, false data\n",
    "income_data = income_data[income_data['zip_code'].astype(str).str.len() == 5]"
   ]
  },
  {
   "cell_type": "markdown",
   "metadata": {},
   "source": [
    "## Part 3: Merging DataFrames"
   ]
  },
  {
   "cell_type": "markdown",
   "metadata": {},
   "source": [
    "Now, we will merge our two dataframes, op_data, which contains prescription information as well as ZIP, and income_data, which contains income information as well as ZIP. We will combine on the ZIP datapoint, and data from income will be merged onto the op_data dataframe (op_data will remain stable). "
   ]
  },
  {
   "cell_type": "code",
   "execution_count": 5,
   "metadata": {},
   "outputs": [
    {
     "data": {
      "text/html": [
       "<div>\n",
       "<style scoped>\n",
       "    .dataframe tbody tr th:only-of-type {\n",
       "        vertical-align: middle;\n",
       "    }\n",
       "\n",
       "    .dataframe tbody tr th {\n",
       "        vertical-align: top;\n",
       "    }\n",
       "\n",
       "    .dataframe thead th {\n",
       "        text-align: right;\n",
       "    }\n",
       "</style>\n",
       "<table border=\"1\" class=\"dataframe\">\n",
       "  <thead>\n",
       "    <tr style=\"text-align: right;\">\n",
       "      <th></th>\n",
       "      <th>zip_code</th>\n",
       "      <th>state</th>\n",
       "      <th>doc_spec</th>\n",
       "      <th>op_cnt</th>\n",
       "      <th>op_rate</th>\n",
       "      <th>LA_op_cnt</th>\n",
       "      <th>LA_op_rate</th>\n",
       "      <th>zip_avg_income</th>\n",
       "    </tr>\n",
       "  </thead>\n",
       "  <tbody>\n",
       "    <tr>\n",
       "      <th>0</th>\n",
       "      <td>21502</td>\n",
       "      <td>MD</td>\n",
       "      <td>Internal Medicine</td>\n",
       "      <td>13.0</td>\n",
       "      <td>0.03</td>\n",
       "      <td>0.0</td>\n",
       "      <td>0.00</td>\n",
       "      <td>45.932160</td>\n",
       "    </tr>\n",
       "    <tr>\n",
       "      <th>1</th>\n",
       "      <td>21502</td>\n",
       "      <td>MD</td>\n",
       "      <td>Hospitalist</td>\n",
       "      <td>17.0</td>\n",
       "      <td>0.03</td>\n",
       "      <td>0.0</td>\n",
       "      <td>0.00</td>\n",
       "      <td>45.932160</td>\n",
       "    </tr>\n",
       "    <tr>\n",
       "      <th>2</th>\n",
       "      <td>21502</td>\n",
       "      <td>MD</td>\n",
       "      <td>Pain Management</td>\n",
       "      <td>994.0</td>\n",
       "      <td>0.71</td>\n",
       "      <td>224.0</td>\n",
       "      <td>0.23</td>\n",
       "      <td>45.932160</td>\n",
       "    </tr>\n",
       "    <tr>\n",
       "      <th>3</th>\n",
       "      <td>21502</td>\n",
       "      <td>MD</td>\n",
       "      <td>Nurse Practitioner</td>\n",
       "      <td>106.0</td>\n",
       "      <td>0.14</td>\n",
       "      <td>0.0</td>\n",
       "      <td>0.00</td>\n",
       "      <td>45.932160</td>\n",
       "    </tr>\n",
       "    <tr>\n",
       "      <th>4</th>\n",
       "      <td>21502</td>\n",
       "      <td>MD</td>\n",
       "      <td>Physician Assistant</td>\n",
       "      <td>26.0</td>\n",
       "      <td>0.01</td>\n",
       "      <td>0.0</td>\n",
       "      <td>0.00</td>\n",
       "      <td>45.932160</td>\n",
       "    </tr>\n",
       "    <tr>\n",
       "      <th>...</th>\n",
       "      <td>...</td>\n",
       "      <td>...</td>\n",
       "      <td>...</td>\n",
       "      <td>...</td>\n",
       "      <td>...</td>\n",
       "      <td>...</td>\n",
       "      <td>...</td>\n",
       "      <td>...</td>\n",
       "    </tr>\n",
       "    <tr>\n",
       "      <th>361974</th>\n",
       "      <td>31805</td>\n",
       "      <td>GA</td>\n",
       "      <td>Internal Medicine</td>\n",
       "      <td>12.0</td>\n",
       "      <td>0.07</td>\n",
       "      <td>0.0</td>\n",
       "      <td>0.00</td>\n",
       "      <td>32.347899</td>\n",
       "    </tr>\n",
       "    <tr>\n",
       "      <th>361975</th>\n",
       "      <td>81418</td>\n",
       "      <td>CO</td>\n",
       "      <td>Physician Assistant</td>\n",
       "      <td>112.0</td>\n",
       "      <td>0.39</td>\n",
       "      <td>0.0</td>\n",
       "      <td>0.00</td>\n",
       "      <td>43.157576</td>\n",
       "    </tr>\n",
       "    <tr>\n",
       "      <th>361976</th>\n",
       "      <td>38659</td>\n",
       "      <td>MS</td>\n",
       "      <td>Nurse Practitioner</td>\n",
       "      <td>21.0</td>\n",
       "      <td>0.01</td>\n",
       "      <td>0.0</td>\n",
       "      <td>0.00</td>\n",
       "      <td>38.785849</td>\n",
       "    </tr>\n",
       "    <tr>\n",
       "      <th>361977</th>\n",
       "      <td>39201</td>\n",
       "      <td>MS</td>\n",
       "      <td>Hospital</td>\n",
       "      <td>19.0</td>\n",
       "      <td>0.73</td>\n",
       "      <td>0.0</td>\n",
       "      <td>0.00</td>\n",
       "      <td>182.073333</td>\n",
       "    </tr>\n",
       "    <tr>\n",
       "      <th>361978</th>\n",
       "      <td>32820</td>\n",
       "      <td>FL</td>\n",
       "      <td>Nurse Practitioner</td>\n",
       "      <td>16.0</td>\n",
       "      <td>0.25</td>\n",
       "      <td>0.0</td>\n",
       "      <td>0.00</td>\n",
       "      <td>60.269251</td>\n",
       "    </tr>\n",
       "  </tbody>\n",
       "</table>\n",
       "<p>361979 rows × 8 columns</p>\n",
       "</div>"
      ],
      "text/plain": [
       "        zip_code state             doc_spec  op_cnt  op_rate  LA_op_cnt  \\\n",
       "0          21502    MD    Internal Medicine    13.0     0.03        0.0   \n",
       "1          21502    MD          Hospitalist    17.0     0.03        0.0   \n",
       "2          21502    MD      Pain Management   994.0     0.71      224.0   \n",
       "3          21502    MD   Nurse Practitioner   106.0     0.14        0.0   \n",
       "4          21502    MD  Physician Assistant    26.0     0.01        0.0   \n",
       "...          ...   ...                  ...     ...      ...        ...   \n",
       "361974     31805    GA    Internal Medicine    12.0     0.07        0.0   \n",
       "361975     81418    CO  Physician Assistant   112.0     0.39        0.0   \n",
       "361976     38659    MS   Nurse Practitioner    21.0     0.01        0.0   \n",
       "361977     39201    MS             Hospital    19.0     0.73        0.0   \n",
       "361978     32820    FL   Nurse Practitioner    16.0     0.25        0.0   \n",
       "\n",
       "        LA_op_rate  zip_avg_income  \n",
       "0             0.00       45.932160  \n",
       "1             0.00       45.932160  \n",
       "2             0.23       45.932160  \n",
       "3             0.00       45.932160  \n",
       "4             0.00       45.932160  \n",
       "...            ...             ...  \n",
       "361974        0.00       32.347899  \n",
       "361975        0.00       43.157576  \n",
       "361976        0.00       38.785849  \n",
       "361977        0.00      182.073333  \n",
       "361978        0.00       60.269251  \n",
       "\n",
       "[361979 rows x 8 columns]"
      ]
     },
     "execution_count": 5,
     "metadata": {},
     "output_type": "execute_result"
    }
   ],
   "source": [
    "op_data = op_data.merge(right = income_data)\n",
    "op_data"
   ]
  },
  {
   "cell_type": "markdown",
   "metadata": {},
   "source": [
    "## Part 4: EDA"
   ]
  },
  {
   "cell_type": "markdown",
   "metadata": {},
   "source": [
    "We will now produce visualizations using our finalized dataset, \\textbf{op_data}.\n",
    "\n",
    "$\\textbf{1)}$ First, I would like to solve my primary question: Are opioids prescribed more frequently in certain states or zip codes with higher average income?"
   ]
  },
  {
   "cell_type": "code",
   "execution_count": 6,
   "metadata": {},
   "outputs": [
    {
     "data": {
      "text/html": [
       "<div>\n",
       "<style scoped>\n",
       "    .dataframe tbody tr th:only-of-type {\n",
       "        vertical-align: middle;\n",
       "    }\n",
       "\n",
       "    .dataframe tbody tr th {\n",
       "        vertical-align: top;\n",
       "    }\n",
       "\n",
       "    .dataframe thead th {\n",
       "        text-align: right;\n",
       "    }\n",
       "</style>\n",
       "<table border=\"1\" class=\"dataframe\">\n",
       "  <thead>\n",
       "    <tr style=\"text-align: right;\">\n",
       "      <th></th>\n",
       "      <th>op_cnt</th>\n",
       "      <th>op_rate</th>\n",
       "      <th>LA_op_cnt</th>\n",
       "      <th>LA_op_rate</th>\n",
       "      <th>zip_avg_income</th>\n",
       "      <th>income_bin</th>\n",
       "    </tr>\n",
       "    <tr>\n",
       "      <th>zip_code</th>\n",
       "      <th></th>\n",
       "      <th></th>\n",
       "      <th></th>\n",
       "      <th></th>\n",
       "      <th></th>\n",
       "      <th></th>\n",
       "    </tr>\n",
       "  </thead>\n",
       "  <tbody>\n",
       "    <tr>\n",
       "      <th>10001</th>\n",
       "      <td>40.243243</td>\n",
       "      <td>0.086216</td>\n",
       "      <td>3.297297</td>\n",
       "      <td>0.040000</td>\n",
       "      <td>155.101676</td>\n",
       "      <td>155</td>\n",
       "    </tr>\n",
       "    <tr>\n",
       "      <th>10002</th>\n",
       "      <td>49.833333</td>\n",
       "      <td>0.025714</td>\n",
       "      <td>2.761905</td>\n",
       "      <td>0.045000</td>\n",
       "      <td>46.846786</td>\n",
       "      <td>46</td>\n",
       "    </tr>\n",
       "    <tr>\n",
       "      <th>10006</th>\n",
       "      <td>29.000000</td>\n",
       "      <td>0.182500</td>\n",
       "      <td>0.000000</td>\n",
       "      <td>0.000000</td>\n",
       "      <td>181.589407</td>\n",
       "      <td>181</td>\n",
       "    </tr>\n",
       "    <tr>\n",
       "      <th>10009</th>\n",
       "      <td>44.833333</td>\n",
       "      <td>0.065833</td>\n",
       "      <td>3.083333</td>\n",
       "      <td>0.014167</td>\n",
       "      <td>72.640410</td>\n",
       "      <td>72</td>\n",
       "    </tr>\n",
       "    <tr>\n",
       "      <th>10025</th>\n",
       "      <td>68.031915</td>\n",
       "      <td>0.137128</td>\n",
       "      <td>4.489362</td>\n",
       "      <td>0.060957</td>\n",
       "      <td>133.870043</td>\n",
       "      <td>133</td>\n",
       "    </tr>\n",
       "  </tbody>\n",
       "</table>\n",
       "</div>"
      ],
      "text/plain": [
       "             op_cnt   op_rate  LA_op_cnt  LA_op_rate  zip_avg_income  \\\n",
       "zip_code                                                               \n",
       "10001     40.243243  0.086216   3.297297    0.040000      155.101676   \n",
       "10002     49.833333  0.025714   2.761905    0.045000       46.846786   \n",
       "10006     29.000000  0.182500   0.000000    0.000000      181.589407   \n",
       "10009     44.833333  0.065833   3.083333    0.014167       72.640410   \n",
       "10025     68.031915  0.137128   4.489362    0.060957      133.870043   \n",
       "\n",
       "          income_bin  \n",
       "zip_code              \n",
       "10001            155  \n",
       "10002             46  \n",
       "10006            181  \n",
       "10009             72  \n",
       "10025            133  "
      ]
     },
     "execution_count": 6,
     "metadata": {},
     "output_type": "execute_result"
    }
   ],
   "source": [
    "#creating a temp dataframe zip_data to preserve original values when removing outliers and other data points\n",
    "#removing outliers for greater clarity \n",
    "\n",
    "zip_df = op_data.groupby('zip_code').mean()\n",
    "\n",
    "zip_df = zip_df[zip_df['zip_avg_income'] < 200]\n",
    "zip_df = zip_df[zip_df['op_cnt'] < 1000]\n",
    "\n",
    "\n",
    "\n",
    "zip_df['income_bin'] = zip_df['zip_avg_income'].values.astype(int)\n",
    "zip_df.head()"
   ]
  },
  {
   "cell_type": "code",
   "execution_count": 7,
   "metadata": {},
   "outputs": [
    {
     "data": {
      "text/plain": [
       "Text(0, 0.5, 'Mean Opioid Prescriptions')"
      ]
     },
     "execution_count": 7,
     "metadata": {},
     "output_type": "execute_result"
    },
    {
     "data": {
      "image/png": "[encoded data removed]",
      "text/plain": [
       "<Figure size 432x288 with 1 Axes>"
      ]
     },
     "metadata": {
      "needs_background": "light"
     },
     "output_type": "display_data"
    }
   ],
   "source": [
    "sns.lineplot(data = zip_df, x  = zip_df['zip_avg_income'], y = zip_df['op_cnt'])\n",
    "plt.title('1.1) Avg. Income vs. Prescription Mean Raw Line Graph')\n",
    "plt.xlabel('Average Income (in $1000)')\n",
    "plt.ylabel('Mean Opioid Prescriptions')"
   ]
  },
  {
   "cell_type": "code",
   "execution_count": 8,
   "metadata": {},
   "outputs": [
    {
     "data": {
      "text/plain": [
       "Text(-2.450000000000003, 0.5, 'Mean Opioid Prescriptions')"
      ]
     },
     "execution_count": 8,
     "metadata": {},
     "output_type": "execute_result"
    },
    {
     "data": {
      "image/png": "[encoded data removed]",
      "text/plain": [
       "<Figure size 360x360 with 1 Axes>"
      ]
     },
     "metadata": {
      "needs_background": "light"
     },
     "output_type": "display_data"
    }
   ],
   "source": [
    "sns.displot(zip_df, x = 'zip_avg_income', y = 'op_cnt')\n",
    "\n",
    "plt.title('1.2) Average Income vs. Prescription Mean Heat Map')\n",
    "plt.xlabel('Average Income (in $1000)')\n",
    "plt.ylabel('Mean Opioid Prescriptions')"
   ]
  },
  {
   "cell_type": "markdown",
   "metadata": {},
   "source": [
    "As the heatmap plot above can be difficult to read, we will use a Kernal Density Estimate (KDE) on the bivariate distribution to smooth the x,y obervations with a 2D Gaussian plane. The more confined circles show more prescriptions writting for the respective income. "
   ]
  },
  {
   "cell_type": "code",
   "execution_count": 9,
   "metadata": {},
   "outputs": [
    {
     "data": {
      "text/plain": [
       "Text(-2.450000000000003, 0.5, 'Mean Opioid Prescriptions')"
      ]
     },
     "execution_count": 9,
     "metadata": {},
     "output_type": "execute_result"
    },
    {
     "data": {
      "image/png": "[encoded data removed]",
      "text/plain": [
       "<Figure size 360x360 with 1 Axes>"
      ]
     },
     "metadata": {
      "needs_background": "light"
     },
     "output_type": "display_data"
    }
   ],
   "source": [
    "sns.displot(zip_df, x = 'zip_avg_income', y = 'op_cnt', kind = 'kde')\n",
    "\n",
    "plt.title('1.3) Average Income vs. Prescription Mean KDE')\n",
    "plt.xlabel('Average Income (in $1000)')\n",
    "plt.ylabel('Mean Opioid Prescriptions')"
   ]
  },
  {
   "cell_type": "markdown",
   "metadata": {},
   "source": [
    "$\\textbf{2)}$ \n",
    "Now we will group our data values by state, using the income of all zips in a state to create a column for each state's average income, labeled \\textbf{'state_avg_income'}. Certain states have additional limitations reguarding prescription. For instance, California requires that opioid naive (first time opioid users) must be limited to a 7 day (or less) prescription. \n",
    "\n",
    "States using additonal limitations reguarding opioids also include:\n",
    "Alaska, Hawaii, Colorado, Utah, Oklahoma, Louisiana, Missouri, Indiana, West Virginia, South Carolina, Pennsylvania, New York, Maine, Arizona, North Carolina, and New Jersy. These states are marked in GREEN."
   ]
  },
  {
   "cell_type": "code",
   "execution_count": 10,
   "metadata": {},
   "outputs": [
    {
     "data": {
      "text/plain": [
       "[Text(0, 0, 'MT'),\n",
       " Text(1, 0, 'NM'),\n",
       " Text(2, 0, 'MS'),\n",
       " Text(3, 0, 'SC'),\n",
       " Text(4, 0, 'AR'),\n",
       " Text(5, 0, 'WV'),\n",
       " Text(6, 0, 'MI'),\n",
       " Text(7, 0, 'OH'),\n",
       " Text(8, 0, 'IN'),\n",
       " Text(9, 0, 'IA'),\n",
       " Text(10, 0, 'AK'),\n",
       " Text(11, 0, 'ID'),\n",
       " Text(12, 0, 'KY'),\n",
       " Text(13, 0, 'AL'),\n",
       " Text(14, 0, 'OK'),\n",
       " Text(15, 0, 'WI'),\n",
       " Text(16, 0, 'DE'),\n",
       " Text(17, 0, 'GA'),\n",
       " Text(18, 0, 'HI'),\n",
       " Text(19, 0, 'UT'),\n",
       " Text(20, 0, 'AZ'),\n",
       " Text(21, 0, 'OR'),\n",
       " Text(22, 0, 'PA'),\n",
       " Text(23, 0, 'ND'),\n",
       " Text(24, 0, 'MN'),\n",
       " Text(25, 0, 'TN'),\n",
       " Text(26, 0, 'NE'),\n",
       " Text(27, 0, 'NV'),\n",
       " Text(28, 0, 'NC'),\n",
       " Text(29, 0, 'LA'),\n",
       " Text(30, 0, 'FL'),\n",
       " Text(31, 0, 'SD'),\n",
       " Text(32, 0, 'MO'),\n",
       " Text(33, 0, 'KS'),\n",
       " Text(34, 0, 'VA'),\n",
       " Text(35, 0, 'WA'),\n",
       " Text(36, 0, 'WY'),\n",
       " Text(37, 0, 'CO'),\n",
       " Text(38, 0, 'MD'),\n",
       " Text(39, 0, 'TX'),\n",
       " Text(40, 0, 'IL'),\n",
       " Text(41, 0, 'CA'),\n",
       " Text(42, 0, 'NY'),\n",
       " Text(43, 0, 'DC')]"
      ]
     },
     "execution_count": 10,
     "metadata": {},
     "output_type": "execute_result"
    },
    {
     "data": {
      "image/png": "[encoded data removed]",
      "text/plain": [
       "<Figure size 432x288 with 1 Axes>"
      ]
     },
     "metadata": {
      "needs_background": "light"
     },
     "output_type": "display_data"
    }
   ],
   "source": [
    "state_df = op_data.groupby('state').mean()\n",
    "state_df = state_df.rename(columns = {'zip_avg_income': 'state_avg_income'})\n",
    "#reordering dataframe to go in order from low to high average income states\n",
    "state_df = state_df.sort_values(by = ['state_avg_income'])\n",
    "\n",
    "special_states = np.array(['AK', 'HI', 'CO', 'UT', 'OK', 'LA', 'MI', 'IN', 'WV', 'SC', 'PA', 'NY', 'CA', 'NJ', \n",
    "                           'NC','AZ', 'MN', 'DC'])\n",
    "\n",
    "mark_spec_states = ['green' if (x in special_states) else 'blue' for x in state_df.index]\n",
    "bplot = sns.barplot(data = state_df, x = state_df.index, y = 'op_cnt', palette = mark_spec_states)\n",
    "\n",
    "plt.title('2.1) Mean Opioid Prescriptions by State')\n",
    "plt.xlabel('State Ordered By Mean Income (Higher Income Moving Right)')\n",
    "plt.ylabel('Average Amount of Opioid Prescriptions')\n",
    "bplot.set_xticklabels(bplot.get_xticklabels(),rotation = 90, size = 7)"
   ]
  },
  {
   "cell_type": "markdown",
   "metadata": {},
   "source": [
    "$\\textbf{3)}$ Additionally, I want to also find out if long acting opioid treatment therapy is used more often in higher income areas. "
   ]
  },
  {
   "cell_type": "code",
   "execution_count": 11,
   "metadata": {},
   "outputs": [
    {
     "data": {
      "text/plain": [
       "Text(0, 0.5, 'Mean Long-Acting Opioid Prescriptions')"
      ]
     },
     "execution_count": 11,
     "metadata": {},
     "output_type": "execute_result"
    },
    {
     "data": {
      "image/png": "[encoded data removed]",
      "text/plain": [
       "<Figure size 432x288 with 1 Axes>"
      ]
     },
     "metadata": {
      "needs_background": "light"
     },
     "output_type": "display_data"
    }
   ],
   "source": [
    "sns.lineplot(data = zip_df, x  = zip_df['zip_avg_income'], y = zip_df['LA_op_cnt'], color = 'red')\n",
    "\n",
    "plt.title('3.1) Average Income vs. Long-Acting Prescription Mean Raw Line Graph')\n",
    "plt.xlabel('Average Income (in $1000)')\n",
    "plt.ylabel('Mean Long-Acting Opioid Prescriptions')"
   ]
  },
  {
   "cell_type": "code",
   "execution_count": 12,
   "metadata": {},
   "outputs": [
    {
     "data": {
      "text/plain": [
       "Text(3.674999999999997, 0.5, 'Mean Long-Acting Opioid Prescriptions')"
      ]
     },
     "execution_count": 12,
     "metadata": {},
     "output_type": "execute_result"
    },
    {
     "data": {
      "image/png": "[encoded data removed]",
      "text/plain": [
       "<Figure size 360x360 with 1 Axes>"
      ]
     },
     "metadata": {
      "needs_background": "light"
     },
     "output_type": "display_data"
    }
   ],
   "source": [
    "sns.displot(zip_df, x = 'zip_avg_income', y = 'LA_op_cnt', color = 'red')\n",
    "\n",
    "plt.title('3.2) Avg. Income vs. Long-Acting Prescription Heat Map')\n",
    "plt.xlabel('Average Income (in $1000)')\n",
    "plt.ylabel('Mean Long-Acting Opioid Prescriptions')"
   ]
  },
  {
   "cell_type": "markdown",
   "metadata": {},
   "source": [
    "Once again, as our heatmap can be difficult to read, we will once again create a KDE."
   ]
  },
  {
   "cell_type": "code",
   "execution_count": 13,
   "metadata": {},
   "outputs": [
    {
     "data": {
      "text/plain": [
       "Text(3.674999999999997, 0.5, 'Mean Long-Acting Opioid Prescriptions')"
      ]
     },
     "execution_count": 13,
     "metadata": {},
     "output_type": "execute_result"
    },
    {
     "data": {
      "image/png": "[encoded data removed]",
      "text/plain": [
       "<Figure size 360x360 with 1 Axes>"
      ]
     },
     "metadata": {
      "needs_background": "light"
     },
     "output_type": "display_data"
    }
   ],
   "source": [
    "sns.displot(zip_df, x = 'zip_avg_income', y = 'LA_op_cnt', kind = 'kde', color = 'red')\n",
    "plt.title('3.3) Average Income vs. Prescription Mean KDE')\n",
    "plt.xlabel('Average Income (in $1000)')\n",
    "plt.ylabel('Mean Long-Acting Opioid Prescriptions')"
   ]
  },
  {
   "cell_type": "markdown",
   "metadata": {},
   "source": [
    "$\\textbf{4)}$ Finally, I would like to see the change in prescriber rates for both regular and Long-Acting opioid prescriptions over the last 5 years. Our DataSet has 2 columns that hold this information, \\textbf{op_rate} and \\textbf{LA_op_rate}, which show percent changes over the course of the last 5 years for each individual doctor."
   ]
  },
  {
   "cell_type": "code",
   "execution_count": 14,
   "metadata": {
    "scrolled": true
   },
   "outputs": [
    {
     "name": "stdout",
     "output_type": "stream",
     "text": [
      "Percent Change for Regular Acting Opiods:  11.963899114347573\n",
      "Percent Change for Long Acting Opiods:  4.264856919322507\n"
     ]
    },
    {
     "data": {
      "image/png": "[encoded data removed]",
      "text/plain": [
       "<Figure size 432x288 with 1 Axes>"
      ]
     },
     "metadata": {
      "needs_background": "light"
     },
     "output_type": "display_data"
    }
   ],
   "source": [
    "zip_df['op_rate'].mean()\n",
    "time_df = pd.DataFrame()\n",
    "time_df['Regular'] = [zip_df['op_rate'].mean() * 100]\n",
    "time_df['Long Acting'] = [zip_df['LA_op_rate'].mean() * 100]\n",
    "time_df.plot.bar()\n",
    "plt.title('4.1) Change in Percent of Opioid Prescription Frequency Since 2016')\n",
    "plt.xlabel('Type of Opioid')\n",
    "plt.ylabel('Percent Change')\n",
    "print('Percent Change for Regular Acting Opiods: ', time_df['Regular'][0])\n",
    "print('Percent Change for Long Acting Opiods: ', time_df['Long Acting'][0])"
   ]
  },
  {
   "cell_type": "markdown",
   "metadata": {},
   "source": [
    "## Conclusion\n",
    "A: Opioids appear to be less frequently prescribed in regions with a higher average income, as shown by the stretching in fig.1.3 as well as the heat map (fig.1.2). The mean prescription density spreads horizontally and drops steeply and significantly after region incomes of USD 50,000. Thus, we can see as income increases, opioid prescription frequency decreases. There is also a decrease in opioid prescribing for income areas below USD 25,000. One possible explanation for this could be an inability to afford proper healthcare and be able to see a doctor to prescribed opioids- even if they may really need them.\n",
    "\n",
    "\n",
    "B: From looking at graph 2.1, cannot definitively conclude that states with higher average incomes have lower frequency of opioid prescriptions. However, it can be observed that states placing additional, more stringent requirements on prescriptions have distinctive decreases in mean opioid prescriptions. \n",
    "\n",
    "\n",
    "C: Although there is similar decrease in frequency as income increases between regular and Long-Acting opioids, it is notable that there is much quicker decreases for short acting. Thus, to some extent, there can be a greater frequency of prescribing LA opioids instead for higher income areas, even though the average amount of opioids prescribed still remains lower for higher income areas. A possible explanation for this is that those in higher income areas may live busier life, and thus doctors may prescribe Long-Acting to prevent skipped or forgotten doses. \n",
    "\n",
    "\n",
    "D: There has been a 11.91% increase in regular acting prescriptions and 4.24% increase in Long-Acting prescriptions for opioids over the last 5 years.\n"
   ]
  },
  {
   "cell_type": "code",
   "execution_count": null,
   "metadata": {},
   "outputs": [],
   "source": []
  }
 ],
 "metadata": {
  "interpreter": {
   "hash": "aee8b7b246df8f9039afb4144a1f6fd8d2ca17a180786b69acc140d282b71a49"
  },
  "kernelspec": {
   "display_name": "Python 3.10.4 64-bit",
   "language": "python",
   "name": "python3"
  },
  "language_info": {
   "codemirror_mode": {
    "name": "ipython",
    "version": 3
   },
   "file_extension": ".py",
   "mimetype": "text/x-python",
   "name": "python",
   "nbconvert_exporter": "python",
   "pygments_lexer": "ipython3",
   "version": "3.10.4"
  },
  "latex_envs": {
   "LaTeX_envs_menu_present": true,
   "autoclose": false,
   "autocomplete": true,
   "bibliofile": "biblio.bib",
   "cite_by": "apalike",
   "current_citInitial": 1,
   "eqLabelWithNumbers": true,
   "eqNumInitial": 1,
   "hotkeys": {
    "equation": "Ctrl-E",
    "itemize": "Ctrl-I"
   },
   "labels_anchors": false,
   "latex_user_defs": false,
   "report_style_numbering": false,
   "user_envs_cfg": false
  }
 },
 "nbformat": 4,
 "nbformat_minor": 4
}
